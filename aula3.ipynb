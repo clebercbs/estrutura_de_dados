{
 "cells": [
  {
   "cell_type": "markdown",
   "id": "cea9816b",
   "metadata": {},
   "source": [
    "\n",
    "# **Scripts para Aula Prática de Estrutura de Dados: Listas Encadeadas**  \n",
    "**Professor:** Cleber Brito Santos\n",
    "\n",
    "---\n",
    "\n",
    "## **Objetivo da Aula**  \n",
    "Nesta aula prática, vamos explorar o conceito de **listas encadeadas**, entender sua estrutura, implementá-las em Python e realizar algumas operações básicas.\n",
    "1. **Entender o conceito de listas encadeadas**\n",
    "2. **Implementar nós e listas encadeadas em Python**\n",
    "3. **Realizar operações como inserção, remoção e busca**\n",
    "\n",
    "\n",
    "---\n"
   ]
  },
  {
   "cell_type": "code",
   "execution_count": 1,
   "id": "fdac865a",
   "metadata": {},
   "outputs": [
    {
     "name": "stdout",
     "output_type": "stream",
     "text": [
      "Nó criado: 10\n"
     ]
    }
   ],
   "source": [
    "\n",
    "# Passo 1: Implementando a Classe Node\n",
    "# Um nó é a unidade básica de uma lista encadeada. Cada nó contém um dado e uma referência para o próximo nó.\n",
    "\n",
    "class Node:\n",
    "    def __init__(self, data):\n",
    "        self.data = data  # Dado armazenado no nó\n",
    "        self.next = None  # Referência para o próximo nó\n",
    "\n",
    "# Teste simples\n",
    "node1 = Node(10)\n",
    "print(f\"Nó criado: {node1.data}\")\n"
   ]
  },
  {
   "cell_type": "code",
   "execution_count": 3,
   "id": "f3b448f5",
   "metadata": {},
   "outputs": [],
   "source": [
    "class LinkedList:\n",
    "    def __init__(self):\n",
    "        self.head = None  # Primeiro nó da lista\n",
    "\n",
    "    def insert_at_beginning(self, data):\n",
    "        # Insere um novo nó no início da lista\n",
    "        new_node = Node(data)\n",
    "        new_node.next = self.head\n",
    "        self.head = new_node\n",
    "\n",
    "    def insert_at_end(self, data):\n",
    "        # Insere um novo nó no final da lista\n",
    "        new_node = Node(data)\n",
    "        if self.head is None:\n",
    "            self.head = new_node\n",
    "            return\n",
    "        last = self.head\n",
    "        while last.next:\n",
    "            last = last.next\n",
    "        last.next = new_node\n",
    "\n",
    "    def delete_node(self, key):\n",
    "        # Remove o primeiro nó com o dado especificado\n",
    "        temp = self.head\n",
    "        if temp and temp.data == key:\n",
    "            self.head = temp.next\n",
    "            temp = None\n",
    "            return\n",
    "        prev = None\n",
    "        while temp and temp.data != key:\n",
    "            prev = temp\n",
    "            temp = temp.next\n",
    "        if temp is None:\n",
    "            print(\"Chave não encontrada.\")\n",
    "            return\n",
    "        prev.next = temp.next\n",
    "        temp = None\n",
    "\n",
    "    def search(self, key):\n",
    "        # Busca por um nó na lista\n",
    "        current = self.head\n",
    "        while current:\n",
    "            if current.data == key:\n",
    "                return True\n",
    "            current = current.next\n",
    "        return False\n",
    "\n",
    "    def display(self):\n",
    "        # Exibe todos os nós na lista\n",
    "        current = self.head\n",
    "        while current:\n",
    "            print(current.data, end=\" -> \")\n",
    "            current = current.next\n",
    "        print(\"None\")"
   ]
  },
  {
   "cell_type": "code",
   "execution_count": 4,
   "id": "0fc95a46",
   "metadata": {},
   "outputs": [
    {
     "name": "stdout",
     "output_type": "stream",
     "text": [
      "Lista atual:\n",
      "10 -> 5 -> 15 -> 20 -> None\n",
      "\n",
      "Buscando elementos:\n",
      "15 encontrado? True\n",
      "25 encontrado? False\n",
      "\n",
      "Removendo elemento 10:\n",
      "5 -> 15 -> 20 -> None\n",
      "\n",
      "Removendo elemento 25:\n",
      "Chave não encontrada.\n",
      "5 -> 15 -> 20 -> None\n"
     ]
    }
   ],
   "source": [
    "# Passo 3: Testando a Lista Encadeada\n",
    "\n",
    "# Criando uma lista encadeada\n",
    "linked_list = LinkedList()\n",
    "\n",
    "# Inserindo elementos\n",
    "linked_list.insert_at_beginning(5)\n",
    "linked_list.insert_at_beginning(10)\n",
    "linked_list.insert_at_end(15)\n",
    "linked_list.insert_at_end(20)\n",
    "\n",
    "# Exibindo a lista\n",
    "print(\"Lista atual:\")\n",
    "linked_list.display()\n",
    "\n",
    "# Buscando elementos\n",
    "print(\"\\nBuscando elementos:\")\n",
    "print(\"15 encontrado?\", linked_list.search(15))\n",
    "print(\"25 encontrado?\", linked_list.search(25))\n",
    "\n",
    "# Removendo elementos\n",
    "print(\"\\nRemovendo elemento 10:\")\n",
    "linked_list.delete_node(10)\n",
    "linked_list.display()\n",
    "\n",
    "print(\"\\nRemovendo elemento 25:\")\n",
    "linked_list.delete_node(25)\n",
    "linked_list.display()"
   ]
  },
  {
   "cell_type": "markdown",
   "id": "a28e2638",
   "metadata": {},
   "source": [
    "## **Exercícios Práticos**\n",
    "1. **Adicione um método na classe LinkedList para inserir um elemento em uma posição específica**\n",
    "2. **Modifique o método `search` para retornar a posição do elemento na lista**\n",
    "3. **Crie uma função para inverter a lista encadeada**\n",
    "4. **Implemente uma lista encadeada dupla com referências para o próximo e o nó anterior**\n",
    "\n",
    "## **Desafio**\n",
    "**Implemente uma lista encadeada circular e demonstre como ela funciona!**\n"
   ]
  },
  {
   "cell_type": "code",
   "execution_count": null,
   "id": "29c50afe",
   "metadata": {},
   "outputs": [],
   "source": []
  }
 ],
 "metadata": {
  "kernelspec": {
   "display_name": "base",
   "language": "python",
   "name": "python3"
  },
  "language_info": {
   "codemirror_mode": {
    "name": "ipython",
    "version": 3
   },
   "file_extension": ".py",
   "mimetype": "text/x-python",
   "name": "python",
   "nbconvert_exporter": "python",
   "pygments_lexer": "ipython3",
   "version": "3.12.7"
  }
 },
 "nbformat": 4,
 "nbformat_minor": 5
}
