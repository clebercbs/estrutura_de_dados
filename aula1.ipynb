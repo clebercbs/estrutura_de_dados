{
 "cells": [
  {
   "cell_type": "markdown",
   "metadata": {},
   "source": [
    "# **Scripts para Aula de Estrutura de Dados com Python**  \n",
    "**Professor:** Cleber Brito Santos\n",
    "\n",
    "---\n",
    "\n",
    "## **Objetivo da Aula**  \n",
    "Apresentar a Linguagem de Programação Python\n",
    "\n",
    "---\n",
    "\n",
    "## **Conhecendo a Sintaxe Básica**  \n",
    "1. **Tipos de dados básicos** – `int`, `float`, `str`, `bool`  \n",
    "2. **Operadores básicos** – Aritméticos, de comparação e lógicos  \n",
    "3. **Controle de Fluxo**  \n",
    "   - Estruturas condicionais (`if`, `elif`, `else`)  \n",
    "   - Laços de repetição (`for`, `while`)\n",
    "\n",
    "---\n",
    "\n",
    "## **Estruturas de Dados Básicas**  \n",
    "1. **Listas**  \n",
    "   - Criação, indexação e métodos básicos (`append()`, `remove()`, etc.)  \n",
    "   - Iteração sobre listas  \n",
    "2. **Tuplas**  \n",
    "   - Imutabilidade e casos de uso  \n",
    "3. **Conjuntos**  \n",
    "   - Operações com conjuntos (`union`, `intersection`, etc.)  \n",
    "4. **Dicionários**  \n",
    "   - Estrutura de chave-valor, métodos básicos e exemplos práticos\n",
    "\n",
    "---\n",
    "\n",
    "## **Funções**  \n",
    "1. **Definindo funções com `def`**  \n",
    "2. **Argumentos, parâmetros e retorno de valores**  \n",
    "3. **Exemplos práticos e exercícios básicos**\n",
    "\n",
    "---\n",
    "\n",
    "## **Módulos e Bibliotecas**  \n",
    "1. **Importando módulos básicos** (`math`, `random`)  \n",
    "2. **Apresentação do módulo `time`** para medir desempenho (preparação para análise de eficiência)  \n",
    "3. **Breve introdução ao PIP** e bibliotecas populares\n"
   ]
  },
  {
   "cell_type": "code",
   "execution_count": null,
   "metadata": {},
   "outputs": [],
   "source": [
    "## **Capítulo 1: Conhecendo a Sintaxe Básica**\n",
    "\n",
    "### **1. Tipos de Dados Básicos**\n",
    "\n",
    "# Exemplo: Tipos de dados básicos\n",
    "numero_inteiro = 10        # int\n",
    "numero_decimal = 3.14      # float\n",
    "texto = \"Olá, mundo!\"      # str\n",
    "valor_booleano = True      # bool\n",
    "\n",
    "print(\"Número inteiro:\", numero_inteiro, \" - \", type(numero_inteiro))\n",
    "print(\"Número decimal:\", numero_decimal, \" - \", type(numero_decimal))\n",
    "print(\"Texto:\", texto, \" - \", type(texto))\n",
    "print(\"Valor booleano:\", valor_booleano, \" - \", type(valor_booleano))"
   ]
  },
  {
   "cell_type": "code",
   "execution_count": null,
   "metadata": {},
   "outputs": [],
   "source": [
    "# Exemplo: Operadores básicos\n",
    "a = 10\n",
    "b = 5\n",
    "\n",
    "# Operadores aritméticos\n",
    "soma = a + b\n",
    "subtracao = a - b\n",
    "multiplicacao = a * b\n",
    "divisao = a / b\n",
    "\n",
    "print(\"Soma:\", soma)\n",
    "print(\"Subtração:\", subtracao)\n",
    "print(\"Multiplicação:\", multiplicacao)\n",
    "print(\"Divisão:\", divisao)\n",
    "\n",
    "# Operadores de comparação\n",
    "print(\"a é igual a b?\", a == b)\n",
    "print(\"a é maior que b?\", a > b)\n",
    "\n",
    "# Operadores lógicos\n",
    "print(\"a é maior que 0 e b é menor que 10?\", a > 0 and b < 10)\n"
   ]
  },
  {
   "cell_type": "code",
   "execution_count": null,
   "metadata": {},
   "outputs": [],
   "source": [
    "# Exemplo: Estruturas condicionais\n",
    "idade = int(input(\"Digite sua idade: \"))\n",
    "\n",
    "if idade >= 18:\n",
    "    print(\"Você é maior de idade.\")\n",
    "elif idade >= 12:\n",
    "    print(\"Você é adolescente.\")\n",
    "else:\n",
    "    print(\"Você é criança.\")\n"
   ]
  },
  {
   "cell_type": "code",
   "execution_count": null,
   "metadata": {},
   "outputs": [],
   "source": [
    "# Exemplo: Laço de repetição for\n",
    "for i in range(5):\n",
    "    print(\"Número:\", i)\n",
    "\n",
    "# Exemplo: Laço de repetição while\n",
    "contador = 0\n",
    "while contador < 5:\n",
    "    print(\"Contador:\", contador)\n",
    "    contador += 1\n"
   ]
  },
  {
   "cell_type": "code",
   "execution_count": null,
   "metadata": {},
   "outputs": [],
   "source": [
    "# Exemplo: Operações com listas\n",
    "numeros = [10, 20, 30, 40, 50]\n",
    "print(f\"Primeira lista: {numeros}\")\n",
    "numeros.append(60)  # Adiciona o número 60 ao final da lista\n",
    "print(f\"Segunda lista: {numeros}\")\n",
    "numeros.remove(30)  # Remove o número 30 da lista\n",
    "print(f\"Lista final: {numeros}\")\n"
   ]
  },
  {
   "cell_type": "code",
   "execution_count": null,
   "metadata": {},
   "outputs": [],
   "source": [
    "# Exemplo: Tuplas\n",
    "tupla = (1, 2, 3, 4, 5)\n",
    "print(\"Primeiro elemento:\", tupla[0])\n",
    "print(\"Último elemento:\", tupla[-1])\n"
   ]
  },
  {
   "cell_type": "code",
   "execution_count": null,
   "metadata": {},
   "outputs": [],
   "source": [
    "# Exemplo: Operações com conjuntos\n",
    "conjunto1 = {1, 2, 3}\n",
    "conjunto2 = {3, 4, 5}\n",
    "\n",
    "uniao = conjunto1 | conjunto2        # União\n",
    "intersecao = conjunto1 & conjunto2   # Interseção\n",
    "\n",
    "print(\"União:\", uniao)\n",
    "print(\"Interseção:\", intersecao)\n"
   ]
  },
  {
   "cell_type": "code",
   "execution_count": null,
   "metadata": {},
   "outputs": [],
   "source": [
    "# Exemplo: Dicionário\n",
    "notas = {\"Ana\": 8.5, \"João\": 7.0, \"Carla\": 9.0}\n",
    "print(\"Nota de Ana:\", notas[\"Ana\"])\n",
    "\n",
    "# Adicionando um novo elemento\n",
    "notas[\"Pedro\"] = 6.5\n",
    "print(\"Dicionário atualizado:\", notas)\n"
   ]
  },
  {
   "cell_type": "code",
   "execution_count": null,
   "metadata": {},
   "outputs": [],
   "source": [
    "# Exemplo: Definindo e chamando uma função\n",
    "def saudacao(nome):\n",
    "    print(f\"Olá, {nome}! Bem-vindo à aula.\")\n",
    "\n",
    "saudacao(\"Cleber\")\n"
   ]
  },
  {
   "cell_type": "code",
   "execution_count": 9,
   "metadata": {},
   "outputs": [
    {
     "name": "stdout",
     "output_type": "stream",
     "text": [
      "Raiz quadrada de 16: 4.0\n",
      "Número aleatório: 4\n"
     ]
    }
   ],
   "source": [
    "# Exemplo: Importando módulos\n",
    "import math\n",
    "import random\n",
    "\n",
    "numero = 16\n",
    "raiz_quadrada = math.sqrt(numero)  # Calcula a raiz quadrada\n",
    "print(\"Raiz quadrada de 16:\", raiz_quadrada)\n",
    "\n",
    "numero_aleatorio = random.randint(1, 10)  # Gera um número aleatório entre 1 e 10\n",
    "print(\"Número aleatório:\", numero_aleatorio)\n"
   ]
  },
  {
   "cell_type": "markdown",
   "metadata": {},
   "source": [
    "# **Exercícios – Aula de Introdução à Estrutura de Dados em Python**\n",
    "\n",
    "---\n",
    "\n",
    "## **Sintaxe Básica do Python**\n",
    "\n",
    "**Exercício 1:**  \n",
    "**Escreva um programa que solicite ao usuário dois números inteiros, calcule a soma e exiba o resultado.**\n",
    "\n",
    "Exemplo de entrada:  \n",
    "Digite o primeiro número: 10  \n",
    "Digite o segundo número: 20  \n",
    "\n",
    "Saída esperada: A soma é 30\n",
    "\n",
    "---\n",
    "\n",
    "**Exercício 2:**  \n",
    "**Crie um programa que receba a idade de uma pessoa e exiba uma mensagem indicando se ela é maior ou menor de idade.**  \n",
    "_Dica: Considere maior de idade se a idade for maior ou igual a 18 anos._\n",
    "\n",
    "---\n",
    "\n",
    "**Exercício 3:**  \n",
    "**Crie uma lista com os seguintes números: 10, 20, 30, 40, 50.**  \n",
    "**Em seguida, faça o seguinte:**\n",
    "\n",
    "- Adicione o número 60 ao final da lista.  \n",
    "- Remova o número 30 da lista.  \n",
    "- Exiba a lista final.\n",
    "\n",
    "---\n",
    "\n",
    "**Exercício 4:**  \n",
    "**Crie uma função chamada `fatorial` que receba um número inteiro positivo como parâmetro e retorne o fatorial desse número.**  \n",
    "_Dica: O fatorial de 5 é `5 * 4 * 3 * 2 * 1 = 120`._\n",
    "\n",
    "---\n",
    "\n",
    "**Exercício 5:**  \n",
    "**Escreva uma função chamada `é_primo` que receba um número inteiro e retorne `True` se ele for primo e `False` caso contrário.**  \n",
    "Em seguida, escreva um programa que utilize essa função para exibir todos os números primos entre 1 e 50.\n"
   ]
  }
 ],
 "metadata": {
  "kernelspec": {
   "display_name": "Python 3",
   "language": "python",
   "name": "python3"
  },
  "language_info": {
   "codemirror_mode": {
    "name": "ipython",
    "version": 3
   },
   "file_extension": ".py",
   "mimetype": "text/x-python",
   "name": "python",
   "nbconvert_exporter": "python",
   "pygments_lexer": "ipython3",
   "version": "3.10.4"
  }
 },
 "nbformat": 4,
 "nbformat_minor": 2
}
