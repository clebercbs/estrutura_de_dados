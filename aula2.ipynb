{
 "cells": [
  {
   "cell_type": "markdown",
   "id": "cea9816b",
   "metadata": {},
   "source": [
    "\n",
    "# **Scripts para Aula de Estruturas Lineares com Python**  \n",
    "**Professor:** Cleber Brito Santos\n",
    "\n",
    "---\n",
    "\n",
    "## **Objetivo da Aula**  \n",
    "Nesta aula, você aprenderá sobre as principais **estruturas de dados lineares**, suas características e implementações em Python:\n",
    "1. **Listas**\n",
    "2. **Pilhas**\n",
    "3. **Filas**\n",
    "4. **Conjuntos**\n",
    "\n",
    "---\n"
   ]
  },
  {
   "cell_type": "markdown",
   "id": "d42ecc32",
   "metadata": {},
   "source": [
    "\n",
    "## **1. Listas**  \n",
    "\n",
    "Uma lista é uma estrutura de dados que armazena elementos em uma sequência ordenada. As listas em Python suportam operações como:\n",
    "- Inserção\n",
    "- Remoção\n",
    "- Acesso por índice\n",
    "- Iteração\n",
    "\n",
    "Vamos ver alguns exemplos de como trabalhar com listas em Python.\n"
   ]
  },
  {
   "cell_type": "code",
   "execution_count": 41,
   "id": "fdac865a",
   "metadata": {},
   "outputs": [
    {
     "name": "stdout",
     "output_type": "stream",
     "text": [
      "Lista original: [10, 20, 30, 40, 50, 60, 70, 80, 90]\n"
     ]
    }
   ],
   "source": [
    "\n",
    "# Criação de uma lista\n",
    "lista = [10, 20, 30, 40, 50, 60, 70, 80, 90]\n",
    "print(\"Lista original:\", lista)"
   ]
  },
  {
   "cell_type": "code",
   "execution_count": 42,
   "id": "f3b448f5",
   "metadata": {},
   "outputs": [
    {
     "name": "stdout",
     "output_type": "stream",
     "text": [
      "Lista após inserir 100: [10, 20, 30, 40, 50, 60, 70, 80, 90, 100]\n"
     ]
    }
   ],
   "source": [
    "# Inserindo elementos\n",
    "lista.append(100)\n",
    "print(\"Lista após inserir 100:\", lista)"
   ]
  },
  {
   "cell_type": "code",
   "execution_count": 43,
   "id": "d25879f0",
   "metadata": {},
   "outputs": [
    {
     "name": "stdout",
     "output_type": "stream",
     "text": [
      "Lista após remover 30: [10, 20, 40, 50, 60, 70, 80, 90, 100]\n"
     ]
    }
   ],
   "source": [
    "# Removendo elementos\n",
    "lista.remove(30)\n",
    "print(\"Lista após remover 30:\", lista)"
   ]
  },
  {
   "cell_type": "code",
   "execution_count": 44,
   "id": "10fd341f",
   "metadata": {},
   "outputs": [
    {
     "name": "stdout",
     "output_type": "stream",
     "text": [
      "Lista após remover o elemento da posição 2: [10, 20, 50, 60, 70, 80, 90, 100]\n"
     ]
    }
   ],
   "source": [
    "del lista[2]\n",
    "print(\"Lista após remover o elemento da posição 2:\", lista)"
   ]
  },
  {
   "cell_type": "code",
   "execution_count": 45,
   "id": "575267c3",
   "metadata": {},
   "outputs": [
    {
     "name": "stdout",
     "output_type": "stream",
     "text": [
      "Primeiro elemento: 10\n",
      "Último elemento: 100\n",
      "Elemento do meio: 70\n"
     ]
    }
   ],
   "source": [
    "# Acessando elementos específicos por índice\n",
    "print(\"Primeiro elemento:\", lista[0])\n",
    "print(\"Último elemento:\", lista[-1])\n",
    "print(\"Elemento do meio:\", lista[len(lista) // 2])\n"
   ]
  },
  {
   "cell_type": "code",
   "execution_count": 46,
   "id": "1d99eb32",
   "metadata": {},
   "outputs": [
    {
     "name": "stdout",
     "output_type": "stream",
     "text": [
      "Primeiros três elementos: [10, 20, 50]\n",
      "Últimos três elementos: [80, 90, 100]\n",
      "Elementos pares (posição): [10, 50, 70, 90]\n",
      "Elementos ímpares (posição): [20, 60, 80, 100]\n"
     ]
    }
   ],
   "source": [
    "\n",
    "# Acessando múltiplos elementos com fatias\n",
    "print(\"Primeiros três elementos:\", lista[:3])\n",
    "print(\"Últimos três elementos:\", lista[-3:])\n",
    "print(\"Elementos pares (posição):\", lista[::2])\n",
    "print(\"Elementos ímpares (posição):\", lista[1::2])\n"
   ]
  },
  {
   "cell_type": "code",
   "execution_count": 47,
   "id": "21de6ba9",
   "metadata": {},
   "outputs": [
    {
     "name": "stdout",
     "output_type": "stream",
     "text": [
      "Penúltimo elemento: 90\n",
      "Terceiro elemento a partir do final: 80\n"
     ]
    }
   ],
   "source": [
    "# Acessando elementos com índices negativos\n",
    "print(\"Penúltimo elemento:\", lista[-2])\n",
    "print(\"Terceiro elemento a partir do final:\", lista[-3])\n",
    "\n"
   ]
  },
  {
   "cell_type": "code",
   "execution_count": 48,
   "id": "a60caa65",
   "metadata": {},
   "outputs": [
    {
     "name": "stdout",
     "output_type": "stream",
     "text": [
      "Sublista (do índice 3 ao 6): [60, 70, 80, 90]\n"
     ]
    }
   ],
   "source": [
    "# Acessando elementos de uma sublista\n",
    "sublista = lista[3:7]\n",
    "print(\"Sublista (do índice 3 ao 6):\", sublista)"
   ]
  },
  {
   "cell_type": "code",
   "execution_count": 49,
   "id": "c1f33287",
   "metadata": {},
   "outputs": [
    {
     "name": "stdout",
     "output_type": "stream",
     "text": [
      "Elemento: 10\n",
      "Elemento: 20\n",
      "Elemento: 50\n",
      "Elemento: 60\n",
      "Elemento: 70\n",
      "Elemento: 80\n",
      "Elemento: 90\n",
      "Elemento: 100\n"
     ]
    }
   ],
   "source": [
    "# Iterando sobre a lista\n",
    "for elemento in lista:\n",
    "    print(\"Elemento:\", elemento)"
   ]
  },
  {
   "cell_type": "markdown",
   "id": "0dff8ab5",
   "metadata": {},
   "source": [
    "\n",
    "## **2. Pilhas (Stacks)**  \n",
    "\n",
    "Uma pilha é uma estrutura de dados linear que segue o princípio **LIFO (Last In, First Out)**. Isso significa que o último elemento a ser inserido será o primeiro a ser removido.\n",
    "\n",
    "### **Operações principais**  \n",
    "- `empilhar(item)` – Insere um elemento no topo da pilha.\n",
    "- `desempilhar()` – Remove o elemento do topo da pilha.\n"
   ]
  },
  {
   "cell_type": "code",
   "execution_count": 50,
   "id": "adcc1fc1",
   "metadata": {},
   "outputs": [
    {
     "name": "stdout",
     "output_type": "stream",
     "text": [
      "Itens na pilha: 1 -> 2 -> 3\n",
      "Desempilhando: 3\n",
      "Pilha após desempilhar: 1 -> 2\n",
      "Desempilhando: 2\n",
      "Pilha após desempilhar: 1\n",
      "Desempilhando: 1\n",
      "Pilha após desempilhar: \n",
      "Desempilhando: A pilha já está vazia!\n",
      "Pilha após desempilhar: \n"
     ]
    }
   ],
   "source": [
    "# Implementação de uma Pilha usando listas\n",
    "#A classe Pilha é criada para implementar o conceito de pilha (stack).\n",
    "#O método __init__ é o construtor da classe. Ele inicializa a pilha como uma lista vazia (self.itens = []).\n",
    "#self.itens será usado para armazenar os elementos da pilha.\n",
    "\n",
    "class Pilha:\n",
    "    def __init__(self):\n",
    "        self.itens = []\n",
    "\n",
    "    def empilhar(self, item):\n",
    "        self.itens.append(item)\n",
    "\n",
    "    def desempilhar(self):\n",
    "        # Não precisa informar o item já que sempre o item será o último.\n",
    "        if not self.esta_vazia():\n",
    "            return self.itens.pop()\n",
    "        return \"A pilha já está vazia!\"\n",
    "\n",
    "    def esta_vazia(self):\n",
    "        return len(self.itens) == 0\n",
    "\n",
    "    def __str__(self):\n",
    "        #O método __str__ define como a pilha será representada como string quando for usada com a função print().\n",
    "        #Ele usa map(str, self.itens) para converter todos os itens da pilha em strings.\n",
    "        #Em seguida, join() é usado para concatenar os itens da lista com o separador \" -> \".\n",
    "        return \" -> \".join(map(str, self.itens))  # Retorna os itens da pilha como string formatada\n",
    "\n",
    "\n",
    "# Exemplo de uso\n",
    "pilha = Pilha()\n",
    "pilha.empilhar(1)\n",
    "pilha.empilhar(2)\n",
    "pilha.empilhar(3)\n",
    "print(\"Itens na pilha:\", pilha)\n",
    "print(\"Desempilhando:\", pilha.desempilhar())\n",
    "print(\"Pilha após desempilhar:\", pilha)\n",
    "print(\"Desempilhando:\", pilha.desempilhar())\n",
    "print(\"Pilha após desempilhar:\", pilha)\n",
    "print(\"Desempilhando:\", pilha.desempilhar())\n",
    "print(\"Pilha após desempilhar:\", pilha)\n",
    "print(\"Desempilhando:\", pilha.desempilhar())\n",
    "print(\"Pilha após desempilhar:\", pilha)\n"
   ]
  },
  {
   "cell_type": "markdown",
   "id": "5c292703",
   "metadata": {},
   "source": [
    "\n",
    "## **3. Filas (Queues)**  \n",
    "\n",
    "Uma fila é uma estrutura de dados linear que segue o princípio **FIFO (First In, First Out)**. Isso significa que o primeiro elemento a ser inserido será o primeiro a ser removido.\n",
    "\n",
    "### **Operações principais**  \n",
    "- `enfileirar(item)` – Insere um elemento no final da fila.\n",
    "- `desenfileirar()` – Remove o elemento no início da fila.\n"
   ]
  },
  {
   "cell_type": "code",
   "execution_count": null,
   "id": "c3172692",
   "metadata": {},
   "outputs": [],
   "source": [
    "\n",
    "# Implementação de uma Fila usando listas\n",
    "class Fila:\n",
    "    def __init__(self):\n",
    "        self.itens = []\n",
    "\n",
    "    def enfileirar(self, item):\n",
    "        self.itens.append(item)\n",
    "\n",
    "    def desenfileirar(self):\n",
    "        if not self.esta_vazia():\n",
    "            return self.itens.pop(0)\n",
    "        return None\n",
    "\n",
    "    def esta_vazia(self):\n",
    "        return len(self.itens) == 0\n",
    "\n",
    "# Exemplo de uso\n",
    "fila = Fila()\n",
    "fila.enfileirar(1)\n",
    "fila.enfileirar(2)\n",
    "fila.enfileirar(3)\n",
    "print(\"Desenfileirando:\", fila.desenfileirar())\n",
    "print(\"Fila após desenfileirar:\", fila.itens)\n"
   ]
  },
  {
   "cell_type": "markdown",
   "id": "c95afe93",
   "metadata": {},
   "source": [
    "\n",
    "## **4. Conjuntos (Sets)**  \n",
    "\n",
    "Um conjunto é uma coleção de elementos **não ordenados e sem duplicatas**. Em Python, os conjuntos suportam operações como:\n",
    "- União (`union` ou `|`)\n",
    "- Interseção (`intersection` ou `&`)\n",
    "- Diferença (`difference` ou `-`)\n",
    "- Teste de pertencimento\n"
   ]
  },
  {
   "cell_type": "code",
   "execution_count": null,
   "id": "b0e131a2",
   "metadata": {},
   "outputs": [],
   "source": [
    "\n",
    "# Criação de conjuntos\n",
    "conjunto1 = {1, 2, 3, 4}\n",
    "conjunto2 = {3, 4, 5, 6}\n",
    "\n",
    "# União\n",
    "print(\"União:\", conjunto1 | conjunto2)\n",
    "\n",
    "# Interseção\n",
    "print(\"Interseção:\", conjunto1 & conjunto2)\n",
    "\n",
    "# Diferença\n",
    "print(\"Diferença (conjunto1 - conjunto2):\", conjunto1 - conjunto2)\n",
    "\n",
    "# Teste de pertencimento\n",
    "print(\"3 está em conjunto1?\", 3 in conjunto1)\n",
    "print(\"5 está em conjunto1?\", 5 in conjunto1)\n"
   ]
  },
  {
   "cell_type": "code",
   "execution_count": null,
   "id": "92efb373",
   "metadata": {},
   "outputs": [],
   "source": [
    "---\n",
    "\n",
    "## **Exercícios**\n",
    "\n",
    "### **Parte 1: Questões Teóricas**\n",
    "\n",
    "1. Defina o que é uma estrutura de dados linear.\n",
    "2. Quais são as principais diferenças entre listas e filas?\n",
    "3. Explique como funciona a estrutura de dados do tipo pilha.\n",
    "4. Qual é a diferença entre conjuntos e listas em termos de operações e eficiência?\n",
    "5. Descreva uma situação onde o uso de uma fila seria mais adequado do que uma pilha.\n",
    "\n",
    "### **Parte 2: Questões Práticas**\n",
    "\n",
    "6. Crie uma função em Python que receba uma lista de números e retorne a soma de todos os elementos.\n",
    "   **Exemplo:**\n",
    "   ```python\n",
    "   def soma_lista(lista):\n",
    "       # Seu código aqui\n",
    "   print(soma_lista([1, 2, 3, 4]))  # Saída esperada: 10\n",
    "   ```\n",
    "\n",
    "7. Escreva uma função que simule o comportamento de uma pilha, com operações de push e pop.\n",
    "\n",
    "8. Implemente uma função que utilize uma fila para armazenar e remover elementos de acordo com o padrão FIFO.\n",
    "\n",
    "9. Crie uma função que receba duas listas e retorne uma nova lista contendo apenas os elementos que aparecem em ambas as listas (interseção).\n",
    "   **Exemplo:**\n",
    "   ```python\n",
    "   def intersecao(lista1, lista2):\n",
    "       # Seu código aqui\n",
    "   print(intersecao([1, 2, 3], [2, 3, 4]))  # Saída esperada: [2, 3]\n",
    "   ```\n",
    "\n",
    "10. Escreva um programa que utilize um conjunto para remover elementos duplicados de uma lista.\n",
    "    **Exemplo:**\n",
    "    ```python\n",
    "    lista = [1, 2, 2, 3, 4, 4, 5]\n",
    "    lista_sem_duplicados = list(set(lista))\n",
    "    print(lista_sem_duplicados)  # Saída esperada: [1, 2, 3, 4, 5]\n",
    "    ```"
   ]
  },
  {
   "cell_type": "code",
   "execution_count": null,
   "id": "30b24083",
   "metadata": {},
   "outputs": [],
   "source": [
    "---\n",
    "\n",
    "## **Exercícios**\n",
    "\n",
    "### **Parte 1: Questões Teóricas**\n",
    "\n",
    "1. Defina o que é uma estrutura de dados linear.\n",
    "2. Quais são as principais diferenças entre listas e filas?\n",
    "3. Explique como funciona a estrutura de dados do tipo pilha.\n",
    "4. Qual é a diferença entre conjuntos e listas em termos de operações e eficiência?\n",
    "5. Descreva uma situação onde o uso de uma fila seria mais adequado do que uma pilha.\n",
    "\n",
    "### **Parte 2: Questões Práticas**\n",
    "\n",
    "6. Crie uma função em Python que receba uma lista de números e retorne a soma de todos os elementos.\n",
    "   **Exemplo:**\n",
    "   ```python\n",
    "   def soma_lista(lista):\n",
    "       # Seu código aqui\n",
    "   print(soma_lista([1, 2, 3, 4]))  # Saída esperada: 10\n",
    "   ```\n",
    "\n",
    "7. Escreva uma função que simule o comportamento de uma pilha, com operações de push e pop.\n",
    "\n",
    "8. Implemente uma função que utilize uma fila para armazenar e remover elementos de acordo com o padrão FIFO.\n",
    "\n",
    "9. Crie uma função que receba duas listas e retorne uma nova lista contendo apenas os elementos que aparecem em ambas as listas (interseção).\n",
    "   **Exemplo:**\n",
    "   ```python\n",
    "   def intersecao(lista1, lista2):\n",
    "       # Seu código aqui\n",
    "   print(intersecao([1, 2, 3], [2, 3, 4]))  # Saída esperada: [2, 3]\n",
    "   ```\n",
    "\n",
    "10. Escreva um programa que utilize um conjunto para remover elementos duplicados de uma lista.\n",
    "    **Exemplo:**\n",
    "    ```python\n",
    "    lista = [1, 2, 2, 3, 4, 4, 5]\n",
    "    lista_sem_duplicados = list(set(lista))\n",
    "    print(lista_sem_duplicados)  # Saída esperada: [1, 2, 3, 4, 5]\n",
    "    ```"
   ]
  }
 ],
 "metadata": {
  "language_info": {
   "name": "python"
  }
 },
 "nbformat": 4,
 "nbformat_minor": 5
}
